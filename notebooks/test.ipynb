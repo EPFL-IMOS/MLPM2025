{
 "cells": [
  {
   "cell_type": "markdown",
   "id": "6cd2137a",
   "metadata": {},
   "source": [
    "## CIVIL-426 | Test Notebook\n",
    "\n",
    "This notebook can be used to validate your Python virtual environment created with `uv`."
   ]
  },
  {
   "cell_type": "code",
   "execution_count": 3,
   "id": "c6826a70",
   "metadata": {},
   "outputs": [
    {
     "name": "stdout",
     "output_type": "stream",
     "text": [
      "INFO: MPS acceleration available.\n"
     ]
    }
   ],
   "source": [
    "import torch\n",
    "\n",
    "# Device selection\n",
    "if torch.cuda.is_available():\n",
    "    device = torch.device(\"cuda\")\n",
    "    print(\"INFO: CUDA acceleration available.\")\n",
    "elif torch.backends.mps.is_available():\n",
    "    device = torch.device(\"mps\")\n",
    "    print(\"INFO: MPS acceleration available.\")\n",
    "else:\n",
    "    device = torch.device(\"cpu\")\n",
    "    print(\"INFO: No hardware acceleration available.\")\n"
   ]
  }
 ],
 "metadata": {
  "kernelspec": {
   "display_name": "mlpm2025",
   "language": "python",
   "name": "python3"
  },
  "language_info": {
   "codemirror_mode": {
    "name": "ipython",
    "version": 3
   },
   "file_extension": ".py",
   "mimetype": "text/x-python",
   "name": "python",
   "nbconvert_exporter": "python",
   "pygments_lexer": "ipython3",
   "version": "3.10.18"
  }
 },
 "nbformat": 4,
 "nbformat_minor": 5
}
